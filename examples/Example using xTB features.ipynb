{
 "cells": [
  {
   "cell_type": "code",
   "execution_count": 1,
   "metadata": {},
   "outputs": [
    {
     "data": {
      "text/plain": [
       "'0.3.6'"
      ]
     },
     "execution_count": 1,
     "metadata": {},
     "output_type": "execute_result"
    }
   ],
   "source": [
    "import nfp\n",
    "nfp.__version__"
   ]
  },
  {
   "cell_type": "code",
   "execution_count": 2,
   "metadata": {},
   "outputs": [],
   "source": [
    "#Reading in the json\n",
    "json = 'json.json'\n",
    "smiles = 'NCCCC(=O)O'"
   ]
  },
  {
   "cell_type": "code",
   "execution_count": 3,
   "metadata": {},
   "outputs": [],
   "source": [
    "from nfp.preprocessing.xtb_preprocessor import xTBSmilesPreprocessor"
   ]
  },
  {
   "cell_type": "code",
   "execution_count": 4,
   "metadata": {},
   "outputs": [],
   "source": [
    "def get_ring_size(obj, max_size=12):\n",
    "    if not obj.IsInRing():\n",
    "        return 0\n",
    "    else:\n",
    "        for i in range(max_size):\n",
    "            if obj.IsInRingSize(i):\n",
    "                return i\n",
    "        else:\n",
    "            return 'max'\n",
    "\n",
    "def atom_featurizer(atom):\n",
    "    \"\"\" Return an string representing the atom type\n",
    "    \"\"\"\n",
    "\n",
    "    return str((\n",
    "        atom.GetSymbol(),\n",
    "        atom.GetIsAromatic(),\n",
    "        get_ring_size(atom, max_size=6),\n",
    "        atom.GetDegree(),\n",
    "        atom.GetTotalNumHs(includeNeighbors=True)\n",
    "    ))\n"
   ]
  },
  {
   "cell_type": "code",
   "execution_count": 5,
   "metadata": {},
   "outputs": [],
   "source": [
    "preprocessor = xTBSmilesPreprocessor(atom_features=atom_featurizer)"
   ]
  },
  {
   "cell_type": "code",
   "execution_count": null,
   "metadata": {},
   "outputs": [],
   "source": []
  },
  {
   "cell_type": "code",
   "execution_count": 6,
   "metadata": {},
   "outputs": [
    {
     "name": "stdout",
     "output_type": "stream",
     "text": [
      "before pre-allocating\n",
      "{'unk': 1}\n",
      "\n",
      "after pre-allocating\n",
      "{'unk': 1, \"('N', False, 0, 3, 2)\": 2, \"('C', False, 0, 4, 2)\": 3, \"('C', False, 0, 3, 0)\": 4, \"('O', False, 0, 1, 0)\": 5, \"('O', False, 0, 2, 1)\": 6, \"('H', False, 0, 1, 0)\": 7}\n"
     ]
    }
   ],
   "source": [
    "# Initially, the preprocessor has no data on atom types, so we have to loop over the \n",
    "# training set once to pre-allocate these mappings\n",
    "print(\"before pre-allocating\")\n",
    "print(preprocessor.atom_tokenizer._data)\n",
    "\n",
    "\n",
    "input_dict = preprocessor(smiles, jsonfile=json, train=True)\n",
    "    \n",
    "print()\n",
    "print(\"after pre-allocating\")\n",
    "print(preprocessor.atom_tokenizer._data)"
   ]
  },
  {
   "cell_type": "code",
   "execution_count": 7,
   "metadata": {},
   "outputs": [
    {
     "data": {
      "text/plain": [
       "array([2, 3, 3, 3, 4, 5, 6, 7, 7, 7, 7, 7, 7, 7, 7, 7], dtype=int32)"
      ]
     },
     "execution_count": 7,
     "metadata": {},
     "output_type": "execute_result"
    }
   ],
   "source": [
    "# Atom types, as integer classes\n",
    "input_dict['atom']"
   ]
  },
  {
   "cell_type": "code",
   "execution_count": 8,
   "metadata": {},
   "outputs": [
    {
     "data": {
      "text/plain": [
       "array([ 2,  3,  3,  4,  5,  6,  6,  5,  5,  6,  6,  5,  5,  6,  6,  5,  7,\n",
       "        7,  8,  8,  9, 10, 10, 11, 11, 11, 11, 11, 11, 12], dtype=int32)"
      ]
     },
     "execution_count": 8,
     "metadata": {},
     "output_type": "execute_result"
    }
   ],
   "source": [
    "# Bond types, as integer classes\n",
    "input_dict['bond']"
   ]
  },
  {
   "cell_type": "code",
   "execution_count": 9,
   "metadata": {},
   "outputs": [
    {
     "data": {
      "text/plain": [
       "array([[ 0,  1],\n",
       "       [ 0,  7],\n",
       "       [ 0,  8],\n",
       "       [ 1,  0],\n",
       "       [ 1,  2],\n",
       "       [ 1,  9],\n",
       "       [ 1, 10],\n",
       "       [ 2,  1],\n",
       "       [ 2,  3],\n",
       "       [ 2, 11],\n",
       "       [ 2, 12],\n",
       "       [ 3,  2],\n",
       "       [ 3,  4],\n",
       "       [ 3, 13],\n",
       "       [ 3, 14],\n",
       "       [ 4,  3],\n",
       "       [ 4,  5],\n",
       "       [ 4,  6],\n",
       "       [ 5,  4],\n",
       "       [ 6,  4],\n",
       "       [ 6, 15],\n",
       "       [ 7,  0],\n",
       "       [ 8,  0],\n",
       "       [ 9,  1],\n",
       "       [10,  1],\n",
       "       [11,  2],\n",
       "       [12,  2],\n",
       "       [13,  3],\n",
       "       [14,  3],\n",
       "       [15,  6]])"
      ]
     },
     "execution_count": 9,
     "metadata": {},
     "output_type": "execute_result"
    }
   ],
   "source": [
    "# connectivity, as integer classes\n",
    "input_dict['connectivity']"
   ]
  },
  {
   "cell_type": "code",
   "execution_count": 10,
   "metadata": {},
   "outputs": [
    {
     "data": {
      "text/plain": [
       "array([[-0.47556, -0.96664,  1.461  ,  4.015  ,  0.     ,  0.     ,\n",
       "         0.     ,  0.     ,  0.     ],\n",
       "       [ 0.08509,  0.02811,  1.009  ,  2.906  ,  0.     ,  0.     ,\n",
       "         0.     ,  0.     ,  0.     ],\n",
       "       [-0.05684, -0.16241,  1.034  ,  3.023  ,  0.     ,  0.     ,\n",
       "         0.     ,  0.     ,  0.     ],\n",
       "       [-0.10887, -0.209  ,  1.049  ,  3.06   ,  0.     ,  0.     ,\n",
       "         0.     ,  0.     ,  0.     ],\n",
       "       [ 0.58755,  0.63844,  0.973  ,  2.439  ,  0.     ,  0.     ,\n",
       "         0.     ,  0.     ,  0.     ],\n",
       "       [-0.52043, -0.56624,  1.716  ,  4.805  ,  0.     ,  0.     ,\n",
       "         0.     ,  0.     ,  0.     ],\n",
       "       [-0.51615, -0.7004 ,  1.692  ,  4.825  ,  0.     ,  0.     ,\n",
       "         0.     ,  0.     ,  0.     ],\n",
       "       [ 0.21071,  0.39842,  0.789  ,  0.     ,  0.     ,  0.     ,\n",
       "         0.     ,  0.     ,  0.     ],\n",
       "       [ 0.21433,  0.40157,  0.786  ,  0.     ,  0.     ,  0.     ,\n",
       "         0.     ,  0.     ,  0.     ],\n",
       "       [ 0.02842,  0.09344,  0.972  ,  0.     ,  0.     ,  0.     ,\n",
       "         0.     ,  0.     ,  0.     ],\n",
       "       [ 0.02292,  0.08457,  0.977  ,  0.     ,  0.     ,  0.     ,\n",
       "         0.     ,  0.     ,  0.     ],\n",
       "       [ 0.03732,  0.09291,  0.963  ,  0.     ,  0.     ,  0.     ,\n",
       "         0.     ,  0.     ,  0.     ],\n",
       "       [ 0.03946,  0.09946,  0.961  ,  0.     ,  0.     ,  0.     ,\n",
       "         0.     ,  0.     ,  0.     ],\n",
       "       [ 0.04986,  0.10894,  0.95   ,  0.     ,  0.     ,  0.     ,\n",
       "         0.     ,  0.     ,  0.     ],\n",
       "       [ 0.05965,  0.11924,  0.94   ,  0.     ,  0.     ,  0.     ,\n",
       "         0.     ,  0.     ,  0.     ],\n",
       "       [ 0.34253,  0.53958,  0.657  ,  0.     ,  0.     ,  0.     ,\n",
       "         0.     ,  0.     ,  0.     ]], dtype=float32)"
      ]
     },
     "execution_count": 10,
     "metadata": {},
     "output_type": "execute_result"
    }
   ],
   "source": [
    "input_dict['atomxtbfeatures']"
   ]
  },
  {
   "cell_type": "code",
   "execution_count": 11,
   "metadata": {},
   "outputs": [
    {
     "data": {
      "text/plain": [
       "array([1.0119054 , 0.9630482 , 0.9622639 , 1.0119054 , 1.0052398 ,\n",
       "       0.9749128 , 0.97257215, 1.0052398 , 0.9995087 , 0.97485995,\n",
       "       0.97448593, 0.9995087 , 0.95687616, 0.95483685, 0.9748943 ,\n",
       "       0.95687616, 1.7624316 , 1.1797163 , 1.7624316 , 1.1797163 ,\n",
       "       0.76018524, 0.9630482 , 0.9622639 , 0.9749128 , 0.97257215,\n",
       "       0.97485995, 0.97448593, 0.95483685, 0.9748943 , 0.76018524],\n",
       "      dtype=float32)"
      ]
     },
     "execution_count": 11,
     "metadata": {},
     "output_type": "execute_result"
    }
   ],
   "source": [
    "input_dict['bondxtbfeatures']"
   ]
  },
  {
   "cell_type": "code",
   "execution_count": null,
   "metadata": {},
   "outputs": [],
   "source": []
  }
 ],
 "metadata": {
  "kernelspec": {
   "display_name": "tf2_gpu",
   "language": "python",
   "name": "tf2_gpu"
  },
  "language_info": {
   "codemirror_mode": {
    "name": "ipython",
    "version": 3
   },
   "file_extension": ".py",
   "mimetype": "text/x-python",
   "name": "python",
   "nbconvert_exporter": "python",
   "pygments_lexer": "ipython3",
   "version": "3.7.8"
  }
 },
 "nbformat": 4,
 "nbformat_minor": 4
}

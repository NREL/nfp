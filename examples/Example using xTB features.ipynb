{
 "cells": [
  {
   "cell_type": "code",
   "execution_count": 1,
   "metadata": {},
   "outputs": [
    {
     "data": {
      "text/plain": [
       "'0.3.6'"
      ]
     },
     "execution_count": 1,
     "metadata": {},
     "output_type": "execute_result"
    }
   ],
   "source": [
    "import nfp\n",
    "nfp.__version__"
   ]
  },
  {
   "cell_type": "code",
   "execution_count": 2,
   "metadata": {},
   "outputs": [],
   "source": [
    "#Reading in the json\n",
    "json = 'json.json'\n",
    "smiles = 'NCCCC(=O)O'"
   ]
  },
  {
   "cell_type": "code",
   "execution_count": 3,
   "metadata": {},
   "outputs": [],
   "source": [
    "from nfp.preprocessing.xtb_preprocessor import xTBSmilesPreprocessor"
   ]
  },
  {
   "cell_type": "code",
   "execution_count": 4,
   "metadata": {},
   "outputs": [],
   "source": [
    "preprocessor = xTBSmilesPreprocessor()"
   ]
  },
  {
   "cell_type": "code",
   "execution_count": 5,
   "metadata": {},
   "outputs": [
    {
     "name": "stdout",
     "output_type": "stream",
     "text": [
      "before pre-allocating\n",
      "{'unk': 1}\n",
      "\n",
      "after pre-allocating\n",
      "{'unk': 1, \"(rdkit.Chem.rdchem.ChiralType.CHI_UNSPECIFIED, 3, rdkit.Chem.rdchem.HybridizationType.SP3, False, 'N', 0, -0.47556, -0.96664, 1.461, 4.015, 0.0, 0.0, 0.0, 0.0, 0.0, 0)\": 2, \"(rdkit.Chem.rdchem.ChiralType.CHI_UNSPECIFIED, 4, rdkit.Chem.rdchem.HybridizationType.SP3, False, 'C', 0, 0.08509, 0.02811, 1.009, 2.906, 0.0, 0.0, 0.0, 0.0, 0.0, 0)\": 3, \"(rdkit.Chem.rdchem.ChiralType.CHI_UNSPECIFIED, 4, rdkit.Chem.rdchem.HybridizationType.SP3, False, 'C', 0, -0.05684, -0.16241, 1.034, 3.023, 0.0, 0.0, 0.0, 0.0, 0.0, 0)\": 4, \"(rdkit.Chem.rdchem.ChiralType.CHI_UNSPECIFIED, 4, rdkit.Chem.rdchem.HybridizationType.SP3, False, 'C', 0, -0.10887, -0.209, 1.049, 3.06, 0.0, 0.0, 0.0, 0.0, 0.0, 0)\": 5, \"(rdkit.Chem.rdchem.ChiralType.CHI_UNSPECIFIED, 3, rdkit.Chem.rdchem.HybridizationType.SP2, False, 'C', 0, 0.58755, 0.63844, 0.973, 2.439, 0.0, 0.0, 0.0, 0.0, 0.0, 0)\": 6, \"(rdkit.Chem.rdchem.ChiralType.CHI_UNSPECIFIED, 1, rdkit.Chem.rdchem.HybridizationType.SP2, False, 'O', 0, -0.52043, -0.56624, 1.716, 4.805, 0.0, 0.0, 0.0, 0.0, 0.0, 0)\": 7, \"(rdkit.Chem.rdchem.ChiralType.CHI_UNSPECIFIED, 2, rdkit.Chem.rdchem.HybridizationType.SP2, False, 'O', 0, -0.51615, -0.7004, 1.692, 4.825, 0.0, 0.0, 0.0, 0.0, 0.0, 0)\": 8, \"(rdkit.Chem.rdchem.ChiralType.CHI_UNSPECIFIED, 1, rdkit.Chem.rdchem.HybridizationType.UNSPECIFIED, False, 'H', 0, 0.21071, 0.39842, 0.789, 0.0, 0.0, 0.0, 0.0, 0.0, 0.0, 0)\": 9, \"(rdkit.Chem.rdchem.ChiralType.CHI_UNSPECIFIED, 1, rdkit.Chem.rdchem.HybridizationType.UNSPECIFIED, False, 'H', 0, 0.21433, 0.40157, 0.786, 0.0, 0.0, 0.0, 0.0, 0.0, 0.0, 0)\": 10, \"(rdkit.Chem.rdchem.ChiralType.CHI_UNSPECIFIED, 1, rdkit.Chem.rdchem.HybridizationType.UNSPECIFIED, False, 'H', 0, 0.02842, 0.09344, 0.972, 0.0, 0.0, 0.0, 0.0, 0.0, 0.0, 0)\": 11, \"(rdkit.Chem.rdchem.ChiralType.CHI_UNSPECIFIED, 1, rdkit.Chem.rdchem.HybridizationType.UNSPECIFIED, False, 'H', 0, 0.02292, 0.08457, 0.977, 0.0, 0.0, 0.0, 0.0, 0.0, 0.0, 0)\": 12, \"(rdkit.Chem.rdchem.ChiralType.CHI_UNSPECIFIED, 1, rdkit.Chem.rdchem.HybridizationType.UNSPECIFIED, False, 'H', 0, 0.03732, 0.09291, 0.963, 0.0, 0.0, 0.0, 0.0, 0.0, 0.0, 0)\": 13, \"(rdkit.Chem.rdchem.ChiralType.CHI_UNSPECIFIED, 1, rdkit.Chem.rdchem.HybridizationType.UNSPECIFIED, False, 'H', 0, 0.03946, 0.09946, 0.961, 0.0, 0.0, 0.0, 0.0, 0.0, 0.0, 0)\": 14, \"(rdkit.Chem.rdchem.ChiralType.CHI_UNSPECIFIED, 1, rdkit.Chem.rdchem.HybridizationType.UNSPECIFIED, False, 'H', 0, 0.04986, 0.10894, 0.95, 0.0, 0.0, 0.0, 0.0, 0.0, 0.0, 0)\": 15, \"(rdkit.Chem.rdchem.ChiralType.CHI_UNSPECIFIED, 1, rdkit.Chem.rdchem.HybridizationType.UNSPECIFIED, False, 'H', 0, 0.05965, 0.11924, 0.94, 0.0, 0.0, 0.0, 0.0, 0.0, 0.0, 0)\": 16, \"(rdkit.Chem.rdchem.ChiralType.CHI_UNSPECIFIED, 1, rdkit.Chem.rdchem.HybridizationType.UNSPECIFIED, False, 'H', 0, 0.34253, 0.53958, 0.657, 0.0, 0.0, 0.0, 0.0, 0.0, 0.0, 0)\": 17}\n"
     ]
    }
   ],
   "source": [
    "# Initially, the preprocessor has no data on atom types, so we have to loop over the \n",
    "# training set once to pre-allocate these mappings\n",
    "print(\"before pre-allocating\")\n",
    "print(preprocessor.atom_tokenizer._data)\n",
    "\n",
    "\n",
    "input_dict = preprocessor(smiles, jsonfile=json,train=True)\n",
    "    \n",
    "print()\n",
    "print(\"after pre-allocating\")\n",
    "print(preprocessor.atom_tokenizer._data)"
   ]
  },
  {
   "cell_type": "code",
   "execution_count": 6,
   "metadata": {},
   "outputs": [
    {
     "data": {
      "text/plain": [
       "array([ 2,  3,  4,  5,  6,  7,  8,  9, 10, 11, 12, 13, 14, 15, 16, 17],\n",
       "      dtype=int32)"
      ]
     },
     "execution_count": 6,
     "metadata": {},
     "output_type": "execute_result"
    }
   ],
   "source": [
    "# Atom types, as integer classes\n",
    "input_dict['atom']"
   ]
  },
  {
   "cell_type": "code",
   "execution_count": 8,
   "metadata": {},
   "outputs": [
    {
     "data": {
      "text/plain": [
       "array([ 2,  3,  4,  5,  6,  7,  8,  6,  9, 10, 11,  9, 12, 13, 14, 12, 15,\n",
       "       16, 17, 18, 19, 20, 21, 22, 23, 24, 25, 26, 27, 28], dtype=int32)"
      ]
     },
     "execution_count": 8,
     "metadata": {},
     "output_type": "execute_result"
    }
   ],
   "source": [
    "# Bond types, as integer classes\n",
    "input_dict['bond']"
   ]
  },
  {
   "cell_type": "code",
   "execution_count": 9,
   "metadata": {},
   "outputs": [
    {
     "data": {
      "text/plain": [
       "array([[ 0,  1],\n",
       "       [ 0,  7],\n",
       "       [ 0,  8],\n",
       "       [ 1,  0],\n",
       "       [ 1,  2],\n",
       "       [ 1,  9],\n",
       "       [ 1, 10],\n",
       "       [ 2,  1],\n",
       "       [ 2,  3],\n",
       "       [ 2, 11],\n",
       "       [ 2, 12],\n",
       "       [ 3,  2],\n",
       "       [ 3,  4],\n",
       "       [ 3, 13],\n",
       "       [ 3, 14],\n",
       "       [ 4,  3],\n",
       "       [ 4,  5],\n",
       "       [ 4,  6],\n",
       "       [ 5,  4],\n",
       "       [ 6,  4],\n",
       "       [ 6, 15],\n",
       "       [ 7,  0],\n",
       "       [ 8,  0],\n",
       "       [ 9,  1],\n",
       "       [10,  1],\n",
       "       [11,  2],\n",
       "       [12,  2],\n",
       "       [13,  3],\n",
       "       [14,  3],\n",
       "       [15,  6]])"
      ]
     },
     "execution_count": 9,
     "metadata": {},
     "output_type": "execute_result"
    }
   ],
   "source": [
    "# connectivity, as integer classes\n",
    "input_dict['connectivity']"
   ]
  },
  {
   "cell_type": "code",
   "execution_count": null,
   "metadata": {},
   "outputs": [],
   "source": []
  }
 ],
 "metadata": {
  "kernelspec": {
   "display_name": "tf2_gpu",
   "language": "python",
   "name": "tf2_gpu"
  },
  "language_info": {
   "codemirror_mode": {
    "name": "ipython",
    "version": 3
   },
   "file_extension": ".py",
   "mimetype": "text/x-python",
   "name": "python",
   "nbconvert_exporter": "python",
   "pygments_lexer": "ipython3",
   "version": "3.7.8"
  }
 },
 "nbformat": 4,
 "nbformat_minor": 4
}

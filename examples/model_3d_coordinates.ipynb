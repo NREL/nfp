{
 "cells": [
  {
   "cell_type": "code",
   "execution_count": 1,
   "metadata": {},
   "outputs": [],
   "source": [
    "from numpy.random import seed\n",
    "seed(1)\n",
    "from tensorflow import set_random_seed\n",
    "set_random_seed(2)"
   ]
  },
  {
   "cell_type": "code",
   "execution_count": 2,
   "metadata": {},
   "outputs": [],
   "source": [
    "import numpy as np\n",
    "import pandas as pd\n",
    "\n",
    "import matplotlib.pyplot as plt\n",
    "import seaborn as sns\n",
    "sns.set(context='talk', style='ticks', color_codes=True)\n",
    "\n",
    "%matplotlib inline"
   ]
  },
  {
   "cell_type": "code",
   "execution_count": 3,
   "metadata": {},
   "outputs": [],
   "source": [
    "df = pd.read_csv('data/qm9.csv.gz')\n",
    "df.index = df['index'].apply(lambda x: 'gdb_{}'.format(x))"
   ]
  },
  {
   "cell_type": "code",
   "execution_count": 4,
   "metadata": {},
   "outputs": [],
   "source": [
    "import warnings\n",
    "from tqdm import tqdm\n",
    "\n",
    "import gzip\n",
    "from rdkit import Chem\n",
    "from rdkit.Chem import AllChem\n",
    "from rdkit.Chem import ForwardSDMolSupplier"
   ]
  },
  {
   "cell_type": "code",
   "execution_count": 5,
   "metadata": {},
   "outputs": [
    {
     "name": "stderr",
     "output_type": "stream",
     "text": [
      "100%|██████████| 5000/5000 [00:01<00:00, 4812.64it/s]\n"
     ]
    }
   ],
   "source": [
    "f = gzip.open('data/gdb9.sdf.gz')\n",
    "\n",
    "mol_supplier = ForwardSDMolSupplier(f, removeHs=False)\n",
    "from itertools import islice\n",
    "\n",
    "mols = []\n",
    "total_mols = 5000\n",
    "\n",
    "for mol in tqdm(islice(mol_supplier, 0, total_mols), total=total_mols):\n",
    "    if mol:\n",
    "        mols += [(mol.GetProp('_Name'), mol, mol.GetNumAtoms())]\n",
    "        \n",
    "mols = pd.DataFrame(mols, columns=['mol_id', 'Mol', 'n_atoms'])"
   ]
  },
  {
   "cell_type": "code",
   "execution_count": 6,
   "metadata": {},
   "outputs": [],
   "source": [
    "valid = mols.sample(frac=.1, random_state=0)\n",
    "train = mols[~mols.mol_id.isin(valid.mol_id)].sample(frac=1., random_state=0)\n",
    "\n",
    "mols = mols.set_index('mol_id')"
   ]
  },
  {
   "cell_type": "code",
   "execution_count": 7,
   "metadata": {},
   "outputs": [
    {
     "name": "stderr",
     "output_type": "stream",
     "text": [
      "Using TensorFlow backend.\n"
     ]
    }
   ],
   "source": [
    "from nfp.preprocessing import MolPreprocessor, GraphSequence\n",
    "from sklearn.preprocessing import RobustScaler"
   ]
  },
  {
   "cell_type": "code",
   "execution_count": 9,
   "metadata": {},
   "outputs": [],
   "source": [
    "def rbf_expansion(distances, mu=0, delta=0.1, kmax=150):\n",
    "    k = np.arange(0, kmax)\n",
    "    logits = -(np.atleast_2d(distances).T - (-mu + delta * k))**2 / delta\n",
    "    return np.exp(logits)\n",
    "\n",
    "def atomic_number_tokenizer(atom):\n",
    "    return atom.GetAtomicNum()"
   ]
  },
  {
   "cell_type": "code",
   "execution_count": 10,
   "metadata": {},
   "outputs": [
    {
     "name": "stderr",
     "output_type": "stream",
     "text": [
      "100%|██████████| 4468/4468 [00:03<00:00, 1333.49it/s]\n",
      "100%|██████████| 496/496 [00:00<00:00, 1310.12it/s]\n"
     ]
    }
   ],
   "source": [
    "# Preprocess molecules\n",
    "preprocessor = MolPreprocessor(\n",
    "    n_neighbors=48, atom_features=atomic_number_tokenizer)\n",
    "inputs_train = preprocessor.fit(train.Mol)\n",
    "inputs_valid = preprocessor.predict(valid.Mol)"
   ]
  },
  {
   "cell_type": "code",
   "execution_count": 11,
   "metadata": {},
   "outputs": [
    {
     "name": "stderr",
     "output_type": "stream",
     "text": [
      "100%|██████████| 4468/4468 [00:06<00:00, 721.95it/s]\n",
      "100%|██████████| 496/496 [00:00<00:00, 677.49it/s]\n"
     ]
    }
   ],
   "source": [
    "def precalc_rbfs(inputs):\n",
    "    for item in tqdm(inputs):\n",
    "        item['distance_rbf'] = rbf_expansion(item['distance'])\n",
    "        del item['distance']\n",
    "    return inputs\n",
    "\n",
    "inputs_train = precalc_rbfs(inputs_train)\n",
    "inputs_valid = precalc_rbfs(inputs_valid)"
   ]
  },
  {
   "cell_type": "code",
   "execution_count": 12,
   "metadata": {},
   "outputs": [],
   "source": [
    "# Preprocess y values\n",
    "y_train = df.reindex(train.mol_id).U0.values.reshape(-1, 1)\n",
    "y_valid = df.reindex(valid.mol_id).U0.values.reshape(-1, 1)"
   ]
  },
  {
   "cell_type": "markdown",
   "metadata": {},
   "source": [
    "Train a quick group-contribution model to get initial values for enthalpies per atom"
   ]
  },
  {
   "cell_type": "code",
   "execution_count": 13,
   "metadata": {},
   "outputs": [],
   "source": [
    "from collections import Counter\n",
    "from sklearn.linear_model import LinearRegression\n",
    "\n",
    "X = pd.DataFrame([Counter(row['atom']) for row in inputs_train]).fillna(0)\n",
    "\n",
    "model = LinearRegression(fit_intercept=False)\n",
    "model.fit(X, y_train)\n",
    "\n",
    "atom_contributions = pd.Series(model.coef_.flatten(), index=X.columns)\n",
    "atom_contributions = atom_contributions.reindex(np.arange(preprocessor.atom_classes)).fillna(0)"
   ]
  },
  {
   "cell_type": "code",
   "execution_count": 14,
   "metadata": {},
   "outputs": [],
   "source": [
    "# y_scaler = RobustScaler()\n",
    "# y_train_scaled = y_scaler.fit_transform(y_train)\n",
    "# y_valid_scaled = y_scaler.transform(y_valid)\n",
    "\n",
    "# Create batch iterators\n",
    "batch_size = 32\n",
    "train_generator = GraphSequence(inputs_train, y_train, 32)\n",
    "valid_generator = GraphSequence(inputs_valid, y_valid, 32)"
   ]
  },
  {
   "cell_type": "code",
   "execution_count": 15,
   "metadata": {},
   "outputs": [],
   "source": [
    "# Define Keras model\n",
    "import keras\n",
    "import keras.backend as K\n",
    "\n",
    "from keras.layers import (\n",
    "    Input, Embedding, Dense, BatchNormalization, Concatenate, Multiply, Add)\n",
    "\n",
    "from keras.models import Model\n",
    "\n",
    "from nfp.layers import (MessageLayer, GRUStep, Squeeze, EdgeNetwork,\n",
    "                        ReduceAtomToMol, ReduceBondToAtom, GatherAtomToBond)\n",
    "from nfp.models import GraphModel"
   ]
  },
  {
   "cell_type": "code",
   "execution_count": 16,
   "metadata": {},
   "outputs": [
    {
     "name": "stdout",
     "output_type": "stream",
     "text": [
      "__________________________________________________________________________________________________\n",
      "Layer (type)                    Output Shape         Param #     Connected to                     \n",
      "==================================================================================================\n",
      "atom (InputLayer)               (None, 1)            0                                            \n",
      "__________________________________________________________________________________________________\n",
      "squeeze_1 (Squeeze)             (None,)              0           node_graph_indices[0][0]         \n",
      "                                                                 atom[0][0]                       \n",
      "__________________________________________________________________________________________________\n",
      "atom_embedding (Embedding)      (None, 16)           112         squeeze_1[1][0]                  \n",
      "__________________________________________________________________________________________________\n",
      "connectivity (InputLayer)       (None, 2)            0                                            \n",
      "__________________________________________________________________________________________________\n",
      "gather_atom_to_bond_1 (GatherAt (None, 16)           0           atom_embedding[0][0]             \n",
      "                                                                 connectivity[0][0]               \n",
      "__________________________________________________________________________________________________\n",
      "gather_atom_to_bond_2 (GatherAt (None, 16)           0           atom_embedding[0][0]             \n",
      "                                                                 connectivity[0][0]               \n",
      "__________________________________________________________________________________________________\n",
      "distance_rbf (InputLayer)       (None, 150)          0                                            \n",
      "__________________________________________________________________________________________________\n",
      "concatenate_1 (Concatenate)     (None, 182)          0           gather_atom_to_bond_1[0][0]      \n",
      "                                                                 gather_atom_to_bond_2[0][0]      \n",
      "                                                                 distance_rbf[0][0]               \n",
      "__________________________________________________________________________________________________\n",
      "dense_1 (Dense)                 (None, 32)           5856        concatenate_1[0][0]              \n",
      "__________________________________________________________________________________________________\n",
      "dense_2 (Dense)                 (None, 16)           528         dense_1[0][0]                    \n",
      "__________________________________________________________________________________________________\n",
      "dense_3 (Dense)                 (None, 16)           272         dense_2[0][0]                    \n",
      "__________________________________________________________________________________________________\n",
      "dense_5 (Dense)                 (None, 16)           272         gather_atom_to_bond_1[0][0]      \n",
      "__________________________________________________________________________________________________\n",
      "dense_4 (Dense)                 (None, 16)           272         dense_3[0][0]                    \n",
      "__________________________________________________________________________________________________\n",
      "multiply_1 (Multiply)           (None, 16)           0           dense_5[0][0]                    \n",
      "                                                                 dense_4[0][0]                    \n",
      "__________________________________________________________________________________________________\n",
      "reduce_bond_to_atom_1 (ReduceBo (None, 16)           0           multiply_1[0][0]                 \n",
      "                                                                 connectivity[0][0]               \n",
      "__________________________________________________________________________________________________\n",
      "dense_6 (Dense)                 (None, 16)           272         reduce_bond_to_atom_1[0][0]      \n",
      "__________________________________________________________________________________________________\n",
      "dense_7 (Dense)                 (None, 16)           272         dense_6[0][0]                    \n",
      "__________________________________________________________________________________________________\n",
      "add_1 (Add)                     (None, 16)           0           atom_embedding[0][0]             \n",
      "                                                                 dense_7[0][0]                    \n",
      "__________________________________________________________________________________________________\n",
      "gather_atom_to_bond_3 (GatherAt (None, 16)           0           add_1[0][0]                      \n",
      "                                                                 connectivity[0][0]               \n",
      "__________________________________________________________________________________________________\n",
      "gather_atom_to_bond_4 (GatherAt (None, 16)           0           add_1[0][0]                      \n",
      "                                                                 connectivity[0][0]               \n",
      "__________________________________________________________________________________________________\n",
      "concatenate_2 (Concatenate)     (None, 48)           0           gather_atom_to_bond_3[0][0]      \n",
      "                                                                 gather_atom_to_bond_4[0][0]      \n",
      "                                                                 dense_4[0][0]                    \n",
      "__________________________________________________________________________________________________\n",
      "dense_8 (Dense)                 (None, 32)           1568        concatenate_2[0][0]              \n",
      "__________________________________________________________________________________________________\n",
      "dense_9 (Dense)                 (None, 16)           528         dense_8[0][0]                    \n",
      "__________________________________________________________________________________________________\n",
      "dense_10 (Dense)                (None, 16)           272         dense_9[0][0]                    \n",
      "__________________________________________________________________________________________________\n",
      "dense_12 (Dense)                (None, 16)           272         gather_atom_to_bond_3[0][0]      \n",
      "__________________________________________________________________________________________________\n",
      "dense_11 (Dense)                (None, 16)           272         dense_10[0][0]                   \n",
      "__________________________________________________________________________________________________\n",
      "multiply_2 (Multiply)           (None, 16)           0           dense_12[0][0]                   \n",
      "                                                                 dense_11[0][0]                   \n",
      "__________________________________________________________________________________________________\n",
      "reduce_bond_to_atom_2 (ReduceBo (None, 16)           0           multiply_2[0][0]                 \n",
      "                                                                 connectivity[0][0]               \n",
      "__________________________________________________________________________________________________\n",
      "dense_13 (Dense)                (None, 16)           272         reduce_bond_to_atom_2[0][0]      \n",
      "__________________________________________________________________________________________________\n",
      "dense_14 (Dense)                (None, 16)           272         dense_13[0][0]                   \n",
      "__________________________________________________________________________________________________\n",
      "add_2 (Add)                     (None, 16)           0           add_1[0][0]                      \n",
      "                                                                 dense_14[0][0]                   \n",
      "__________________________________________________________________________________________________\n",
      "gather_atom_to_bond_5 (GatherAt (None, 16)           0           add_2[0][0]                      \n",
      "                                                                 connectivity[0][0]               \n",
      "__________________________________________________________________________________________________\n",
      "gather_atom_to_bond_6 (GatherAt (None, 16)           0           add_2[0][0]                      \n",
      "                                                                 connectivity[0][0]               \n",
      "__________________________________________________________________________________________________\n",
      "concatenate_3 (Concatenate)     (None, 48)           0           gather_atom_to_bond_5[0][0]      \n",
      "                                                                 gather_atom_to_bond_6[0][0]      \n",
      "                                                                 dense_11[0][0]                   \n",
      "__________________________________________________________________________________________________\n",
      "dense_15 (Dense)                (None, 32)           1568        concatenate_3[0][0]              \n",
      "__________________________________________________________________________________________________\n",
      "dense_16 (Dense)                (None, 16)           528         dense_15[0][0]                   \n",
      "__________________________________________________________________________________________________\n",
      "dense_17 (Dense)                (None, 16)           272         dense_16[0][0]                   \n",
      "__________________________________________________________________________________________________\n",
      "dense_19 (Dense)                (None, 16)           272         gather_atom_to_bond_5[0][0]      \n",
      "__________________________________________________________________________________________________\n",
      "dense_18 (Dense)                (None, 16)           272         dense_17[0][0]                   \n",
      "__________________________________________________________________________________________________\n",
      "multiply_3 (Multiply)           (None, 16)           0           dense_19[0][0]                   \n",
      "                                                                 dense_18[0][0]                   \n",
      "__________________________________________________________________________________________________\n",
      "reduce_bond_to_atom_3 (ReduceBo (None, 16)           0           multiply_3[0][0]                 \n",
      "                                                                 connectivity[0][0]               \n",
      "__________________________________________________________________________________________________\n",
      "dense_20 (Dense)                (None, 16)           272         reduce_bond_to_atom_3[0][0]      \n",
      "__________________________________________________________________________________________________\n",
      "dense_21 (Dense)                (None, 16)           272         dense_20[0][0]                   \n",
      "__________________________________________________________________________________________________\n",
      "add_3 (Add)                     (None, 16)           0           add_2[0][0]                      \n",
      "                                                                 dense_21[0][0]                   \n",
      "__________________________________________________________________________________________________\n",
      "dense_22 (Dense)                (None, 8)            136         add_3[0][0]                      \n",
      "__________________________________________________________________________________________________\n",
      "dense_23 (Dense)                (None, 1)            9           dense_22[0][0]                   \n",
      "__________________________________________________________________________________________________\n",
      "atomwise_energy (Embedding)     (None, 1)            7           squeeze_1[1][0]                  \n",
      "__________________________________________________________________________________________________\n",
      "node_graph_indices (InputLayer) (None, 1)            0                                            \n",
      "__________________________________________________________________________________________________\n",
      "add_4 (Add)                     (None, 1)            0           dense_23[0][0]                   \n",
      "                                                                 atomwise_energy[0][0]            \n",
      "__________________________________________________________________________________________________\n",
      "reduce_atom_to_mol_1 (ReduceAto (None, 1)            0           add_4[0][0]                      \n",
      "                                                                 squeeze_1[0][0]                  \n",
      "==================================================================================================\n",
      "Total params: 14,920\n",
      "Trainable params: 14,920\n",
      "Non-trainable params: 0\n",
      "__________________________________________________________________________________________________\n"
     ]
    }
   ],
   "source": [
    "# Raw (integer) graph inputs\n",
    "node_graph_indices = Input(shape=(1,), name='node_graph_indices', dtype='int32')\n",
    "atom_types = Input(shape=(1,), name='atom', dtype='int32')\n",
    "distance_rbf = Input(shape=(150,), name='distance_rbf', dtype='float32')\n",
    "connectivity = Input(shape=(2,), name='connectivity', dtype='int32')\n",
    "\n",
    "squeeze = Squeeze()\n",
    "\n",
    "snode_graph_indices = squeeze(node_graph_indices)\n",
    "satom_types = squeeze(atom_types)\n",
    "\n",
    "# Initialize RNN and MessageLayer instances\n",
    "atom_features = 16\n",
    "\n",
    "# Initialize the atom states\n",
    "atom_state = Embedding(\n",
    "    preprocessor.atom_classes,\n",
    "    atom_features, name='atom_embedding')(satom_types)\n",
    "\n",
    "atomwise_energy = Embedding(\n",
    "    preprocessor.atom_classes, 1, name='atomwise_energy',\n",
    "    embeddings_initializer=keras.initializers.constant(atom_contributions.values)\n",
    ")(satom_types)\n",
    "\n",
    "\n",
    "bond_state = distance_rbf\n",
    "\n",
    "def message_block(atom_state, bond_state, connectivity):\n",
    "\n",
    "    source_atom_gather = GatherAtomToBond(1)\n",
    "    target_atom_gather = GatherAtomToBond(0)\n",
    "\n",
    "    source_atom = source_atom_gather([atom_state, connectivity])\n",
    "    target_atom = target_atom_gather([atom_state, connectivity])\n",
    "\n",
    "    # Edge update network\n",
    "    bond_state = Concatenate()([source_atom, target_atom, bond_state])\n",
    "    bond_state = Dense(2*atom_features, activation='softplus')(bond_state)\n",
    "    bond_state = Dense(atom_features)(bond_state)\n",
    "\n",
    "    # message function\n",
    "    bond_state = Dense(atom_features)(bond_state)\n",
    "    bond_state = Dense(atom_features)(bond_state)\n",
    "    source_atom = Dense(atom_features)(source_atom)    \n",
    "    messages = Multiply()([source_atom, bond_state])\n",
    "    messages = ReduceBondToAtom(reducer='sum')([messages, connectivity])\n",
    "    \n",
    "    # state transition function\n",
    "    messages = Dense(atom_features, activation='softplus')(messages)\n",
    "    messages = Dense(atom_features)(messages)\n",
    "    atom_state = Add()([atom_state, messages])\n",
    "    \n",
    "    return atom_state, bond_state\n",
    "\n",
    "for _ in range(3):\n",
    "    atom_state, bond_state = message_block(atom_state, bond_state, connectivity)\n",
    "    \n",
    "atom_state = Dense(atom_features//2, activation='softplus')(atom_state)\n",
    "atom_state = Dense(1)(atom_state)\n",
    "atom_state = Add()([atom_state, atomwise_energy])\n",
    "output = ReduceAtomToMol(reducer='sum')([atom_state, snode_graph_indices])\n",
    "\n",
    "model = GraphModel([\n",
    "    node_graph_indices, atom_types, distance_rbf, connectivity], [output])\n",
    "\n",
    "model.compile(optimizer=keras.optimizers.Adam(lr=5E-4), loss='mae')\n",
    "model.summary()"
   ]
  },
  {
   "cell_type": "code",
   "execution_count": 17,
   "metadata": {},
   "outputs": [
    {
     "name": "stdout",
     "output_type": "stream",
     "text": [
      "Epoch 1/10\n",
      "140/140 [==============================] - 6s 46ms/step - loss: 24.3328 - val_loss: 2.3053\n",
      "Epoch 2/10\n",
      "140/140 [==============================] - 5s 38ms/step - loss: 2.9814 - val_loss: 2.6666\n",
      "Epoch 3/10\n",
      "140/140 [==============================] - 6s 39ms/step - loss: 1.9592 - val_loss: 1.6980\n",
      "Epoch 4/10\n",
      "140/140 [==============================] - 6s 41ms/step - loss: 1.3003 - val_loss: 1.1896\n",
      "Epoch 5/10\n",
      "140/140 [==============================] - 5s 38ms/step - loss: 1.0549 - val_loss: 0.9993\n",
      "Epoch 6/10\n",
      "140/140 [==============================] - 6s 40ms/step - loss: 1.1060 - val_loss: 1.4312\n",
      "Epoch 7/10\n",
      "140/140 [==============================] - 6s 40ms/step - loss: 1.1539 - val_loss: 1.4891\n",
      "Epoch 8/10\n",
      "140/140 [==============================] - 7s 46ms/step - loss: 1.0316 - val_loss: 0.8721\n",
      "Epoch 9/10\n",
      "140/140 [==============================] - 6s 46ms/step - loss: 0.9200 - val_loss: 0.9274\n",
      "Epoch 10/10\n",
      "140/140 [==============================] - 6s 46ms/step - loss: 0.8966 - val_loss: 0.8081\n"
     ]
    }
   ],
   "source": [
    "with warnings.catch_warnings():\n",
    "    warnings.simplefilter(\"ignore\")\n",
    "\n",
    "    hist = model.fit_generator(\n",
    "        train_generator, validation_data=valid_generator, epochs=10)"
   ]
  },
  {
   "cell_type": "code",
   "execution_count": null,
   "metadata": {},
   "outputs": [],
   "source": [
    "#plt.semilogy(hist.history['val_loss'])\n",
    "plt.semilogy(hist.history['loss'])\n",
    "plt.semilogy(hist.history['val_loss'])"
   ]
  },
  {
   "cell_type": "code",
   "execution_count": null,
   "metadata": {},
   "outputs": [],
   "source": [
    "y_pred_train = model.predict_generator(RBFSequence(inputs_train, batch_size=32, shuffle=False))\n",
    "y_pred_valid = model.predict_generator(RBFSequence(inputs_valid, batch_size=32, shuffle=False))"
   ]
  },
  {
   "cell_type": "code",
   "execution_count": null,
   "metadata": {},
   "outputs": [],
   "source": [
    "plt.plot(y_valid, y_pred_valid, '.', ms=2)"
   ]
  },
  {
   "cell_type": "code",
   "execution_count": null,
   "metadata": {},
   "outputs": [],
   "source": [
    "plt.plot(y_train, y_pred_train, '.', ms=2)"
   ]
  },
  {
   "cell_type": "code",
   "execution_count": null,
   "metadata": {},
   "outputs": [],
   "source": [
    "model.save('temp/test3d.h5')\n",
    "\n",
    "from keras.models import load_model\n",
    "from nfp import custom_layers\n",
    "\n",
    "with warnings.catch_warnings():\n",
    "    warnings.simplefilter(\"ignore\")\n",
    "    model = load_model('temp/test3d.h5', custom_objects=custom_layers)\n",
    "\n",
    "model.evaluate_generator(valid_generator)"
   ]
  }
 ],
 "metadata": {
  "kernelspec": {
   "display_name": "Python 3",
   "language": "python",
   "name": "python3"
  },
  "language_info": {
   "codemirror_mode": {
    "name": "ipython",
    "version": 3
   },
   "file_extension": ".py",
   "mimetype": "text/x-python",
   "name": "python",
   "nbconvert_exporter": "python",
   "pygments_lexer": "ipython3",
   "version": "3.6.7"
  }
 },
 "nbformat": 4,
 "nbformat_minor": 2
}

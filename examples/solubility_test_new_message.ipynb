{
 "cells": [
  {
   "cell_type": "code",
   "execution_count": 1,
   "metadata": {},
   "outputs": [],
   "source": [
    "from numpy.random import seed\n",
    "seed(1)\n",
    "from tensorflow import set_random_seed\n",
    "set_random_seed(2)"
   ]
  },
  {
   "cell_type": "code",
   "execution_count": 2,
   "metadata": {},
   "outputs": [],
   "source": [
    "import numpy as np\n",
    "import pandas as pd\n",
    "\n",
    "import matplotlib.pyplot as plt\n",
    "import seaborn as sns\n",
    "sns.set(context='talk', style='ticks', color_codes=True)\n",
    "\n",
    "%matplotlib inline"
   ]
  },
  {
   "cell_type": "code",
   "execution_count": 3,
   "metadata": {},
   "outputs": [
    {
     "name": "stdout",
     "output_type": "stream",
     "text": [
      "1.12.0\n"
     ]
    },
    {
     "name": "stderr",
     "output_type": "stream",
     "text": [
      "Using TensorFlow backend.\n"
     ]
    },
    {
     "name": "stdout",
     "output_type": "stream",
     "text": [
      "2.2.4\n"
     ]
    }
   ],
   "source": [
    "import tensorflow as tf\n",
    "print(tf.__version__)\n",
    "\n",
    "import keras\n",
    "print(keras.__version__)\n",
    "\n",
    "data = pd.read_csv('data/delaney.csv')\n",
    "\n",
    "data.head()\n",
    "\n",
    "test = data.sample(frac=0.2, random_state=0)\n",
    "train = data[~data.index.isin(test.index)]"
   ]
  },
  {
   "cell_type": "code",
   "execution_count": 4,
   "metadata": {},
   "outputs": [],
   "source": [
    "from sklearn.preprocessing import StandardScaler\n",
    "\n",
    "y_train = train['measured log solubility in mols per litre'].values.reshape(-1, 1)\n",
    "y_test = test['measured log solubility in mols per litre'].values.reshape(-1, 1)\n",
    "\n",
    "y_scaler = StandardScaler()\n",
    "y_train_scaled = y_scaler.fit_transform(y_train)\n",
    "y_test_scaled = y_scaler.transform(y_test)"
   ]
  },
  {
   "cell_type": "code",
   "execution_count": 5,
   "metadata": {},
   "outputs": [],
   "source": [
    "from nfp.preprocessing import SmilesPreprocessor, GraphSequence\n",
    "from nfp.preprocessing import features"
   ]
  },
  {
   "cell_type": "code",
   "execution_count": 6,
   "metadata": {},
   "outputs": [
    {
     "name": "stderr",
     "output_type": "stream",
     "text": [
      "100%|██████████| 902/902 [00:00<00:00, 2143.57it/s]\n",
      "100%|██████████| 226/226 [00:00<00:00, 2200.22it/s]\n"
     ]
    }
   ],
   "source": [
    "preprocessor = SmilesPreprocessor(explicit_hs=False)\n",
    "\n",
    "inputs_train = preprocessor.fit(train.smiles)\n",
    "inputs_test = preprocessor.predict(test.smiles)\n",
    "\n",
    "batch_size = 50\n",
    "train_generator = GraphSequence(inputs_train, y_train_scaled, batch_size)\n",
    "test_generator = GraphSequence(inputs_test, y_test_scaled, batch_size)"
   ]
  },
  {
   "cell_type": "code",
   "execution_count": 7,
   "metadata": {},
   "outputs": [
    {
     "data": {
      "text/plain": [
       "1238"
      ]
     },
     "execution_count": 7,
     "metadata": {},
     "output_type": "execute_result"
    }
   ],
   "source": [
    "len(train_generator[2][0]['bond'])"
   ]
  },
  {
   "cell_type": "code",
   "execution_count": 8,
   "metadata": {},
   "outputs": [
    {
     "data": {
      "text/plain": [
       "1400"
      ]
     },
     "execution_count": 8,
     "metadata": {},
     "output_type": "execute_result"
    }
   ],
   "source": [
    "len(train_generator[1][0]['bond'])"
   ]
  },
  {
   "cell_type": "code",
   "execution_count": 19,
   "metadata": {},
   "outputs": [],
   "source": [
    "import warnings\n",
    "\n",
    "# Define Keras model\n",
    "import keras\n",
    "import keras.backend as K\n",
    "\n",
    "from keras.layers import (\n",
    "    Input, Embedding, Dense, BatchNormalization, Reshape, Lambda, Activation)\n",
    "\n",
    "from keras.models import Model\n",
    "from keras.engine import Layer\n",
    "\n",
    "from nfp.layers import GRUStep, ReduceAtomToMol, Embedding2D, Squeeze\n",
    "from nfp.models import GraphModel"
   ]
  },
  {
   "cell_type": "code",
   "execution_count": 20,
   "metadata": {},
   "outputs": [
    {
     "name": "stdout",
     "output_type": "stream",
     "text": [
      "__________________________________________________________________________________________________\n",
      "Layer (type)                    Output Shape         Param #     Connected to                     \n",
      "==================================================================================================\n",
      "atom (InputLayer)               (None, 1)            0                                            \n",
      "__________________________________________________________________________________________________\n",
      "bond (InputLayer)               (None, 1)            0                                            \n",
      "__________________________________________________________________________________________________\n",
      "squeeze_1 (Squeeze)             (None,)              0           node_graph_indices[0][0]         \n",
      "                                                                 atom[0][0]                       \n",
      "                                                                 bond[0][0]                       \n",
      "__________________________________________________________________________________________________\n",
      "atom_embedding (Embedding)      (None, 20)           740         squeeze_1[1][0]                  \n",
      "__________________________________________________________________________________________________\n",
      "bond_embedding (Embedding2D)    (None, 20, 20)       22800       squeeze_1[2][0]                  \n",
      "__________________________________________________________________________________________________\n",
      "connectivity (InputLayer)       (None, 2)            0                                            \n",
      "__________________________________________________________________________________________________\n",
      "message_layer_1 (MessageLayer)  (None, 20)           0           atom_embedding[0][0]             \n",
      "                                                                 bond_embedding[0][0]             \n",
      "                                                                 connectivity[0][0]               \n",
      "                                                                 gru_step_1[0][0]                 \n",
      "                                                                 bond_embedding[0][0]             \n",
      "                                                                 connectivity[0][0]               \n",
      "                                                                 gru_step_1[1][0]                 \n",
      "                                                                 bond_embedding[0][0]             \n",
      "                                                                 connectivity[0][0]               \n",
      "__________________________________________________________________________________________________\n",
      "gru_step_1 (GRUStep)            (None, 20)           2460        message_layer_1[0][0]            \n",
      "                                                                 atom_embedding[0][0]             \n",
      "                                                                 message_layer_1[1][0]            \n",
      "                                                                 gru_step_1[0][0]                 \n",
      "                                                                 message_layer_1[2][0]            \n",
      "                                                                 gru_step_1[1][0]                 \n",
      "__________________________________________________________________________________________________\n",
      "batch_normalization_1 (BatchNor (None, 20)           80          gru_step_1[2][0]                 \n",
      "__________________________________________________________________________________________________\n",
      "dense_1 (Dense)                 (None, 64)           1344        batch_normalization_1[0][0]      \n",
      "__________________________________________________________________________________________________\n",
      "node_graph_indices (InputLayer) (None, 1)            0                                            \n",
      "__________________________________________________________________________________________________\n",
      "batch_normalization_2 (BatchNor (None, 64)           256         dense_1[0][0]                    \n",
      "__________________________________________________________________________________________________\n",
      "reduce_atom_to_mol_1 (ReduceAto (None, 64)           0           batch_normalization_2[0][0]      \n",
      "                                                                 squeeze_1[0][0]                  \n",
      "__________________________________________________________________________________________________\n",
      "dense_2 (Dense)                 (None, 1)            65          reduce_atom_to_mol_1[0][0]       \n",
      "==================================================================================================\n",
      "Total params: 27,745\n",
      "Trainable params: 27,577\n",
      "Non-trainable params: 168\n",
      "__________________________________________________________________________________________________\n"
     ]
    }
   ],
   "source": [
    "# Raw (integer) graph inputs\n",
    "node_graph_indices = Input(shape=(1,), name='node_graph_indices', dtype='int32')\n",
    "atom_types = Input(shape=(1,), name='atom', dtype='int32')\n",
    "bond_types = Input(shape=(1,), name='bond', dtype='int32')\n",
    "connectivity = Input(shape=(2,), name='connectivity', dtype='int32')\n",
    "\n",
    "squeeze = Squeeze()\n",
    "\n",
    "snode_graph_indices = squeeze(node_graph_indices)\n",
    "satom_types = squeeze(atom_types)\n",
    "sbond_types = squeeze(bond_types)\n",
    "\n",
    "# Initialize RNN and MessageLayer instances\n",
    "atom_features = 20\n",
    "\n",
    "# Initialize the atom states\n",
    "atom_state = Embedding(\n",
    "    preprocessor.atom_classes,\n",
    "    atom_features, name='atom_embedding')(satom_types)\n",
    "\n",
    "# Initialize the bond states\n",
    "bond_matrix = Embedding2D(\n",
    "    preprocessor.bond_classes,\n",
    "    atom_features, name='bond_embedding')(sbond_types)\n",
    "\n",
    "atom_rnn_layer = GRUStep(atom_features)\n",
    "message_layer = MessageLayer(reducer='sum', dropout=0.1)\n",
    "\n",
    "message_steps = 3\n",
    "# Perform the message passing\n",
    "for _ in range(message_steps):\n",
    "\n",
    "    # Get the message updates to each atom\n",
    "    message = message_layer([atom_state, bond_matrix, connectivity])\n",
    "\n",
    "    # Update memory and atom states\n",
    "    atom_state = atom_rnn_layer([message, atom_state])\n",
    "    \n",
    "atom_state = BatchNormalization(momentum=0.9)(atom_state)\n",
    "atom_fingerprint = Dense(64, activation='sigmoid')(atom_state)\n",
    "atom_fingerprint = BatchNormalization(momentum=0.9)(atom_fingerprint)\n",
    "\n",
    "mol_fingerprint = ReduceAtomToMol(reducer='sum')([atom_fingerprint, snode_graph_indices])\n",
    "\n",
    "out = Dense(1)(mol_fingerprint)\n",
    "model = GraphModel([node_graph_indices, atom_types, bond_types, connectivity], [out])\n",
    "model.compile(optimizer=keras.optimizers.Adam(lr=1E-4), loss='mse')\n",
    "model.summary()"
   ]
  },
  {
   "cell_type": "code",
   "execution_count": 18,
   "metadata": {},
   "outputs": [
    {
     "name": "stdout",
     "output_type": "stream",
     "text": [
      "Epoch 1/50\n",
      " - 3s - loss: 8.1709 - val_loss: 5.8816\n",
      "Epoch 2/50\n",
      " - 1s - loss: 2.7618 - val_loss: 2.1422\n",
      "Epoch 3/50\n",
      " - 1s - loss: 1.5050 - val_loss: 1.3754\n",
      "Epoch 4/50\n",
      " - 1s - loss: 1.1021 - val_loss: 1.0181\n",
      "Epoch 5/50\n",
      " - 1s - loss: 0.9462 - val_loss: 0.8920\n",
      "Epoch 6/50\n",
      " - 1s - loss: 0.7177 - val_loss: 0.8266\n",
      "Epoch 7/50\n",
      " - 1s - loss: 0.6328 - val_loss: 0.7119\n",
      "Epoch 8/50\n",
      " - 1s - loss: 0.5352 - val_loss: 0.7009\n",
      "Epoch 9/50\n",
      " - 1s - loss: 0.5795 - val_loss: 0.6723\n",
      "Epoch 10/50\n",
      " - 1s - loss: 0.4309 - val_loss: 0.6028\n",
      "Epoch 11/50\n",
      " - 1s - loss: 0.4252 - val_loss: 0.6001\n",
      "Epoch 12/50\n",
      " - 1s - loss: 0.3846 - val_loss: 0.6398\n",
      "Epoch 13/50\n",
      " - 1s - loss: 0.3835 - val_loss: 0.5793\n",
      "Epoch 14/50\n",
      " - 1s - loss: 0.3420 - val_loss: 0.5158\n",
      "Epoch 15/50\n",
      " - 1s - loss: 0.3222 - val_loss: 0.5447\n",
      "Epoch 16/50\n",
      " - 1s - loss: 0.3232 - val_loss: 0.4915\n",
      "Epoch 17/50\n",
      " - 1s - loss: 0.3150 - val_loss: 0.4476\n",
      "Epoch 18/50\n",
      " - 1s - loss: 0.2920 - val_loss: 0.5035\n",
      "Epoch 19/50\n",
      " - 1s - loss: 0.2851 - val_loss: 0.4232\n",
      "Epoch 20/50\n",
      " - 1s - loss: 0.2940 - val_loss: 0.4568\n",
      "Epoch 21/50\n",
      " - 1s - loss: 0.2611 - val_loss: 0.4533\n",
      "Epoch 22/50\n",
      " - 1s - loss: 0.3073 - val_loss: 0.4163\n",
      "Epoch 23/50\n",
      " - 1s - loss: 0.2506 - val_loss: 0.4222\n",
      "Epoch 24/50\n",
      " - 1s - loss: 0.2713 - val_loss: 0.3854\n",
      "Epoch 25/50\n",
      " - 1s - loss: 0.2712 - val_loss: 0.4319\n",
      "Epoch 26/50\n",
      " - 1s - loss: 0.2742 - val_loss: 0.3891\n",
      "Epoch 27/50\n",
      " - 1s - loss: 0.2869 - val_loss: 0.3807\n",
      "Epoch 28/50\n",
      " - 1s - loss: 0.3264 - val_loss: 0.3406\n",
      "Epoch 29/50\n",
      " - 1s - loss: 0.2386 - val_loss: 0.3577\n",
      "Epoch 30/50\n",
      " - 1s - loss: 0.3004 - val_loss: 0.3504\n",
      "Epoch 31/50\n",
      " - 1s - loss: 0.2392 - val_loss: 0.3597\n",
      "Epoch 32/50\n",
      " - 1s - loss: 0.2345 - val_loss: 0.4357\n",
      "Epoch 33/50\n",
      " - 1s - loss: 0.2568 - val_loss: 0.3825\n",
      "Epoch 34/50\n",
      " - 1s - loss: 0.2096 - val_loss: 0.3418\n",
      "Epoch 35/50\n",
      " - 1s - loss: 0.2290 - val_loss: 0.3037\n",
      "Epoch 36/50\n",
      " - 1s - loss: 0.2066 - val_loss: 0.3240\n",
      "Epoch 37/50\n",
      " - 1s - loss: 0.2400 - val_loss: 0.3016\n",
      "Epoch 38/50\n",
      " - 1s - loss: 0.2246 - val_loss: 0.3890\n",
      "Epoch 39/50\n",
      " - 1s - loss: 0.3281 - val_loss: 0.3899\n",
      "Epoch 40/50\n",
      " - 1s - loss: 0.2471 - val_loss: 0.4302\n",
      "Epoch 41/50\n",
      " - 1s - loss: 0.2731 - val_loss: 0.3234\n",
      "Epoch 42/50\n",
      " - 1s - loss: 0.2113 - val_loss: 0.3097\n",
      "Epoch 43/50\n",
      " - 1s - loss: 0.1985 - val_loss: 0.3212\n",
      "Epoch 44/50\n",
      " - 1s - loss: 0.1884 - val_loss: 0.3097\n",
      "Epoch 45/50\n",
      " - 1s - loss: 0.2005 - val_loss: 0.2912\n",
      "Epoch 46/50\n",
      " - 1s - loss: 0.1943 - val_loss: 0.3285\n",
      "Epoch 47/50\n",
      " - 1s - loss: 0.2008 - val_loss: 0.3069\n",
      "Epoch 48/50\n",
      " - 1s - loss: 0.1932 - val_loss: 0.2850\n",
      "Epoch 49/50\n",
      " - 1s - loss: 0.1954 - val_loss: 0.3479\n",
      "Epoch 50/50\n",
      " - 1s - loss: 0.1944 - val_loss: 0.2933\n"
     ]
    }
   ],
   "source": [
    "with warnings.catch_warnings():\n",
    "    warnings.simplefilter(\"ignore\")\n",
    "    \n",
    "    hist = model.fit_generator(train_generator, validation_data=test_generator, epochs=50, verbose=2)"
   ]
  },
  {
   "cell_type": "code",
   "execution_count": 19,
   "metadata": {},
   "outputs": [
    {
     "data": {
      "image/png": "[encoded data removed]",
      "text/plain": [
       "<Figure size 432x288 with 1 Axes>"
      ]
     },
     "metadata": {
      "needs_background": "light"
     },
     "output_type": "display_data"
    }
   ],
   "source": [
    "plt.semilogy(hist.history['loss'], label='Training Loss')\n",
    "plt.semilogy(hist.history['val_loss'], label='Validation Loss', zorder=0)\n",
    "\n",
    "plt.legend(loc='upper right')\n",
    "sns.despine()"
   ]
  },
  {
   "cell_type": "code",
   "execution_count": 20,
   "metadata": {},
   "outputs": [
    {
     "data": {
      "text/plain": [
       "[<matplotlib.lines.Line2D at 0x1205fbef0>]"
      ]
     },
     "execution_count": 20,
     "metadata": {},
     "output_type": "execute_result"
    },
    {
     "data": {
      "image/png": "[encoded data removed]",
      "text/plain": [
       "<Figure size 432x288 with 1 Axes>"
      ]
     },
     "metadata": {
      "needs_background": "light"
     },
     "output_type": "display_data"
    }
   ],
   "source": [
    "y_train_pred = y_scaler.inverse_transform(\n",
    "    model.predict_generator(GraphSequence(inputs_train, batch_size=32, shuffle=False)))\n",
    "y_test_pred = y_scaler.inverse_transform(\n",
    "    model.predict_generator(GraphSequence(inputs_test, batch_size=32, shuffle=False)))\n",
    "\n",
    "plt.plot(y_train, y_train_pred, '.', ms=5)\n",
    "plt.plot(y_test, y_test_pred, '.', ms=5)"
   ]
  },
  {
   "cell_type": "code",
   "execution_count": 21,
   "metadata": {},
   "outputs": [],
   "source": [
    "from sklearn.metrics import mean_squared_error"
   ]
  },
  {
   "cell_type": "code",
   "execution_count": 22,
   "metadata": {},
   "outputs": [
    {
     "data": {
      "text/plain": [
       "0.2933328814333252"
      ]
     },
     "execution_count": 22,
     "metadata": {},
     "output_type": "execute_result"
    }
   ],
   "source": [
    "model.evaluate_generator(test_generator)"
   ]
  },
  {
   "cell_type": "code",
   "execution_count": 23,
   "metadata": {},
   "outputs": [
    {
     "data": {
      "text/plain": [
       "0.2933328814333252"
      ]
     },
     "execution_count": 23,
     "metadata": {},
     "output_type": "execute_result"
    }
   ],
   "source": [
    "model.save('temp/test.h5')\n",
    "\n",
    "from keras.models import load_model\n",
    "from nfp import custom_layers\n",
    "\n",
    "with warnings.catch_warnings():\n",
    "    warnings.simplefilter(\"ignore\")\n",
    "    model = load_model('temp/test.h5', custom_objects=custom_layers)\n",
    "\n",
    "model.evaluate_generator(test_generator)"
   ]
  },
  {
   "cell_type": "code",
   "execution_count": 15,
   "metadata": {},
   "outputs": [],
   "source": [
    "# atom_layers = K.Function([atom_types, connectivity], atom_states)\n",
    "# atoms = atom_layers(inputs_train)\n",
    "\n",
    "# from sklearn.decomposition import PCA\n",
    "\n",
    "# pca = PCA(n_components=2)\n",
    "# pca.fit(np.vstack([atom[atom_train != 0] for atom in atoms]))\n",
    "\n",
    "# fig, axmatrix = plt.subplots(nrows=1, ncols=4, sharex=True, sharey=True, figsize=(15, 3.5))\n",
    "\n",
    "# for ax, atom in zip(axmatrix.flatten(), atoms):\n",
    "    \n",
    "#     x, y = pca.transform(atom[atom_train != 0]).T\n",
    "#     ax.scatter(x, y, s=5, c=atom_train[atom_train != 0], cmap='gist_ncar', alpha=0.1)\n",
    "    \n",
    "# for i, ax in enumerate(axmatrix.flatten()):\n",
    "#     ax.set_title('Atom Layer {}'.format(i))"
   ]
  },
  {
   "cell_type": "code",
   "execution_count": 16,
   "metadata": {},
   "outputs": [],
   "source": [
    "# mol_layers = K.Function([atom_types, connectivity], [fingerprint])\n",
    "# mols = mol_layers(inputs_train)[0]\n",
    "\n",
    "# from sklearn.decomposition import PCA\n",
    "\n",
    "# pca = PCA(n_components=2)\n",
    "# pca.fit(np.vstack(mols))\n",
    "# x, y = pca.transform(mols).T    \n",
    "# plt.scatter(x, y, s=20, c=y_train[:, 0], cmap='coolwarm')"
   ]
  }
 ],
 "metadata": {
  "kernelspec": {
   "display_name": "Python 3",
   "language": "python",
   "name": "python3"
  },
  "language_info": {
   "codemirror_mode": {
    "name": "ipython",
    "version": 3
   },
   "file_extension": ".py",
   "mimetype": "text/x-python",
   "name": "python",
   "nbconvert_exporter": "python",
   "pygments_lexer": "ipython3",
   "version": "3.6.7"
  }
 },
 "nbformat": 4,
 "nbformat_minor": 2
}
